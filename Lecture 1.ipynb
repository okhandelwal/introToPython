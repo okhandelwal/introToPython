{
 "cells": [
  {
   "cell_type": "markdown",
   "id": "cda6fa5e",
   "metadata": {},
   "source": [
    "# Astronomy 9"
   ]
  },
  {
   "cell_type": "markdown",
   "id": "69687d1a",
   "metadata": {},
   "source": [
    "# Lecture 1: Introduction to Python"
   ]
  },
  {
   "cell_type": "code",
   "execution_count": 1,
   "id": "f118544a",
   "metadata": {},
   "outputs": [
    {
     "name": "stdout",
     "output_type": "stream",
     "text": [
      "Hello World!\n"
     ]
    }
   ],
   "source": [
    "print('Hello World!')"
   ]
  },
  {
   "cell_type": "markdown",
   "id": "830d242e",
   "metadata": {},
   "source": [
    "# The Basics"
   ]
  },
  {
   "cell_type": "markdown",
   "id": "6e7ed59e",
   "metadata": {},
   "source": [
    "## Commenting"
   ]
  },
  {
   "cell_type": "code",
   "execution_count": 2,
   "id": "012e64d5",
   "metadata": {},
   "outputs": [],
   "source": [
    "#One of the most important aspects of your code is the comments\n",
    "#Everything written behind the # does not affect the code\n",
    "#this is a comment"
   ]
  },
  {
   "cell_type": "code",
   "execution_count": 3,
   "id": "8ad9249f",
   "metadata": {},
   "outputs": [
    {
     "ename": "SyntaxError",
     "evalue": "invalid syntax (1822609576.py, line 1)",
     "output_type": "error",
     "traceback": [
      "\u001b[1;36m  Cell \u001b[1;32mIn[3], line 1\u001b[1;36m\u001b[0m\n\u001b[1;33m    Without it you will get an error\u001b[0m\n\u001b[1;37m            ^\u001b[0m\n\u001b[1;31mSyntaxError\u001b[0m\u001b[1;31m:\u001b[0m invalid syntax\n"
     ]
    }
   ],
   "source": [
    "Without it you will get an error"
   ]
  },
  {
   "cell_type": "code",
   "execution_count": 4,
   "id": "02c27a19",
   "metadata": {},
   "outputs": [
    {
     "name": "stdout",
     "output_type": "stream",
     "text": [
      "5\n"
     ]
    }
   ],
   "source": [
    "x = 5\n",
    "\n",
    "'''\n",
    "\n",
    "Comments can\n",
    "also be written with quotes\n",
    "around them. What is in the\n",
    "quotes will be ignored in \n",
    "favor of the code.\n",
    "\n",
    "\n",
    "'''\n",
    "\n",
    "print(x)"
   ]
  },
  {
   "cell_type": "markdown",
   "id": "9c5d5b07",
   "metadata": {},
   "source": [
    "## Types"
   ]
  },
  {
   "cell_type": "code",
   "execution_count": 5,
   "id": "94ed044e",
   "metadata": {},
   "outputs": [
    {
     "name": "stdout",
     "output_type": "stream",
     "text": [
      "In order to print words they need quotes around them\n"
     ]
    }
   ],
   "source": [
    "print('In order to print words they need quotes around them')"
   ]
  },
  {
   "cell_type": "code",
   "execution_count": 6,
   "id": "8ff01ef9",
   "metadata": {},
   "outputs": [
    {
     "name": "stdout",
     "output_type": "stream",
     "text": [
      "<class 'str'>\n"
     ]
    }
   ],
   "source": [
    "print(type('string'))"
   ]
  },
  {
   "cell_type": "code",
   "execution_count": 7,
   "id": "8e673f84",
   "metadata": {},
   "outputs": [
    {
     "name": "stdout",
     "output_type": "stream",
     "text": [
      "<class 'int'>\n"
     ]
    }
   ],
   "source": [
    "print(type(2))"
   ]
  },
  {
   "cell_type": "code",
   "execution_count": 8,
   "id": "e68f9ffd",
   "metadata": {},
   "outputs": [
    {
     "name": "stdout",
     "output_type": "stream",
     "text": [
      "<class 'float'>\n"
     ]
    }
   ],
   "source": [
    "print(type(2.4))"
   ]
  },
  {
   "cell_type": "code",
   "execution_count": 9,
   "id": "1729256e",
   "metadata": {},
   "outputs": [
    {
     "name": "stdout",
     "output_type": "stream",
     "text": [
      "<class 'bool'>\n"
     ]
    }
   ],
   "source": [
    "print(type(False))"
   ]
  },
  {
   "cell_type": "code",
   "execution_count": 10,
   "id": "5e7d5f66",
   "metadata": {},
   "outputs": [
    {
     "name": "stdout",
     "output_type": "stream",
     "text": [
      "<class 'list'>\n"
     ]
    }
   ],
   "source": [
    "print(type([1,2,3,4]))"
   ]
  },
  {
   "cell_type": "code",
   "execution_count": 11,
   "id": "509af67d",
   "metadata": {},
   "outputs": [
    {
     "name": "stdout",
     "output_type": "stream",
     "text": [
      "<class 'tuple'>\n"
     ]
    }
   ],
   "source": [
    "print(type((1,2,3,4)))"
   ]
  },
  {
   "cell_type": "markdown",
   "id": "136c17bd",
   "metadata": {},
   "source": [
    "# Mathematical Functions of Python"
   ]
  },
  {
   "cell_type": "code",
   "execution_count": 12,
   "id": "9604b82a",
   "metadata": {},
   "outputs": [
    {
     "name": "stdout",
     "output_type": "stream",
     "text": [
      "8\n"
     ]
    }
   ],
   "source": [
    "#Addition\n",
    "3 + 5"
   ]
  },
  {
   "cell_type": "code",
   "execution_count": 13,
   "id": "cb5bae2b",
   "metadata": {},
   "outputs": [
    {
     "data": {
      "text/plain": [
       "420"
      ]
     },
     "execution_count": 13,
     "metadata": {},
     "output_type": "execute_result"
    }
   ],
   "source": [
    "#Subtraction\n",
    "500 - 80"
   ]
  },
  {
   "cell_type": "code",
   "execution_count": 14,
   "id": "943cdd3a",
   "metadata": {},
   "outputs": [
    {
     "data": {
      "text/plain": [
       "343"
      ]
     },
     "execution_count": 14,
     "metadata": {},
     "output_type": "execute_result"
    }
   ],
   "source": [
    "#Multiplication\n",
    "7*49"
   ]
  },
  {
   "cell_type": "code",
   "execution_count": 15,
   "id": "e9552d01",
   "metadata": {},
   "outputs": [
    {
     "data": {
      "text/plain": [
       "18.923076923076923"
      ]
     },
     "execution_count": 15,
     "metadata": {},
     "output_type": "execute_result"
    }
   ],
   "source": [
    "#Division\n",
    "246/13"
   ]
  },
  {
   "cell_type": "code",
   "execution_count": 16,
   "id": "6c1455a4",
   "metadata": {},
   "outputs": [
    {
     "data": {
      "text/plain": [
       "1"
      ]
     },
     "execution_count": 16,
     "metadata": {},
     "output_type": "execute_result"
    }
   ],
   "source": [
    "#Modulus\n",
    "15%7"
   ]
  },
  {
   "cell_type": "code",
   "execution_count": 17,
   "id": "b6fd2c98",
   "metadata": {},
   "outputs": [
    {
     "data": {
      "text/plain": [
       "4.0"
      ]
     },
     "execution_count": 17,
     "metadata": {},
     "output_type": "execute_result"
    }
   ],
   "source": [
    "#floor division\n",
    "9.//2"
   ]
  },
  {
   "cell_type": "code",
   "execution_count": 18,
   "id": "91da9e14",
   "metadata": {},
   "outputs": [
    {
     "data": {
      "text/plain": [
       "8"
      ]
     },
     "execution_count": 18,
     "metadata": {},
     "output_type": "execute_result"
    }
   ],
   "source": [
    "#Exponential\n",
    "##DO NOT DO THIS\n",
    "10^2 "
   ]
  },
  {
   "cell_type": "code",
   "execution_count": 19,
   "id": "dfddc6b0",
   "metadata": {},
   "outputs": [
    {
     "data": {
      "text/plain": [
       "100"
      ]
     },
     "execution_count": 19,
     "metadata": {},
     "output_type": "execute_result"
    }
   ],
   "source": [
    "#This is how to write an exponential in python\n",
    "10**2"
   ]
  },
  {
   "cell_type": "markdown",
   "id": "1bef3c17",
   "metadata": {},
   "source": [
    "## Importing Packages"
   ]
  },
  {
   "cell_type": "markdown",
   "id": "0396367e",
   "metadata": {},
   "source": [
    "Words you will write everytime you sit down to start new code"
   ]
  },
  {
   "cell_type": "code",
   "execution_count": 20,
   "id": "e5a9f282",
   "metadata": {},
   "outputs": [
    {
     "data": {
      "text/plain": [
       "2.0"
      ]
     },
     "execution_count": 20,
     "metadata": {},
     "output_type": "execute_result"
    }
   ],
   "source": [
    "import numpy as np\n",
    "\n",
    "x = np.sqrt(4)\n",
    "x"
   ]
  },
  {
   "cell_type": "markdown",
   "id": "29cb6167",
   "metadata": {},
   "source": [
    "Why \"as np\"?"
   ]
  },
  {
   "cell_type": "code",
   "execution_count": 21,
   "id": "87287b09",
   "metadata": {},
   "outputs": [
    {
     "name": "stdout",
     "output_type": "stream",
     "text": [
      "3.141592653589793\n"
     ]
    }
   ],
   "source": [
    "import numpy \n",
    "\n",
    "x = numpy.pi\n",
    "print(x)"
   ]
  },
  {
   "cell_type": "code",
   "execution_count": 24,
   "id": "39723fd4",
   "metadata": {},
   "outputs": [
    {
     "name": "stdout",
     "output_type": "stream",
     "text": [
      "3.141592653589793\n"
     ]
    }
   ],
   "source": [
    "import numpy as tribble\n",
    "\n",
    "x = tribble.pi\n",
    "print(x)"
   ]
  },
  {
   "cell_type": "markdown",
   "id": "76c33afd",
   "metadata": {},
   "source": [
    "## Print Statements"
   ]
  },
  {
   "cell_type": "markdown",
   "id": "0f15ef25",
   "metadata": {},
   "source": [
    "How to show off that you got the right answer"
   ]
  },
  {
   "cell_type": "code",
   "execution_count": 25,
   "id": "c5f484b0",
   "metadata": {},
   "outputs": [
    {
     "name": "stdout",
     "output_type": "stream",
     "text": [
      "hello world\n"
     ]
    }
   ],
   "source": [
    "print('hello world')"
   ]
  },
  {
   "cell_type": "code",
   "execution_count": 26,
   "id": "1986754d",
   "metadata": {},
   "outputs": [
    {
     "name": "stdout",
     "output_type": "stream",
     "text": [
      "hello world 3.141592653589793\n"
     ]
    }
   ],
   "source": [
    "print('hello world', np.pi)"
   ]
  },
  {
   "cell_type": "code",
   "execution_count": 27,
   "id": "dce645d1",
   "metadata": {},
   "outputs": [
    {
     "name": "stdout",
     "output_type": "stream",
     "text": [
      "This is pie: 3.141592653589793\n"
     ]
    }
   ],
   "source": [
    "print('This is pie:', np.pi)"
   ]
  },
  {
   "cell_type": "code",
   "execution_count": 28,
   "id": "f96a10ca",
   "metadata": {},
   "outputs": [
    {
     "name": "stdout",
     "output_type": "stream",
     "text": [
      "hello world\n",
      "3.141592653589793\n"
     ]
    }
   ],
   "source": [
    "print('hello world')\n",
    "print(np.pi)"
   ]
  },
  {
   "cell_type": "markdown",
   "id": "8a21fcca",
   "metadata": {},
   "source": [
    "## Defining Variables"
   ]
  },
  {
   "cell_type": "markdown",
   "id": "7069a516",
   "metadata": {},
   "source": [
    "You can define a variable anyway you like, using whatever code you like"
   ]
  },
  {
   "cell_type": "code",
   "execution_count": 29,
   "id": "39be8ae1",
   "metadata": {},
   "outputs": [
    {
     "name": "stdout",
     "output_type": "stream",
     "text": [
      "3 5\n"
     ]
    }
   ],
   "source": [
    "x = 3 #define a variable by an integer\n",
    "y = x + 2 #define a variable by another variable in an equation\n",
    "print(x, y)"
   ]
  },
  {
   "cell_type": "code",
   "execution_count": 30,
   "id": "03ee3129",
   "metadata": {},
   "outputs": [
    {
     "name": "stdout",
     "output_type": "stream",
     "text": [
      "Batman and Robin\n"
     ]
    }
   ],
   "source": [
    "caped_crusader = 'Batman' #define a variable by a string\n",
    "\n",
    "boy_wonder = ' and Robin'\n",
    "\n",
    "dynamic_duo = caped_crusader + boy_wonder #can use these string variables in an equation to define another\n",
    "print(dynamic_duo) #results are a combo of the two"
   ]
  },
  {
   "cell_type": "markdown",
   "id": "7b828b76",
   "metadata": {},
   "source": [
    "### How to define more complex functions"
   ]
  },
  {
   "cell_type": "code",
   "execution_count": 31,
   "id": "25ffefb7",
   "metadata": {},
   "outputs": [
    {
     "name": "stdout",
     "output_type": "stream",
     "text": [
      "-0.3660728975697296\n",
      "-54.63392710243027\n"
     ]
    }
   ],
   "source": [
    "a = 1\n",
    "b = +55\n",
    "c = 20\n",
    "\n",
    "# 0 = x^2 + 55x + 20\n",
    "#here we are using the pre-written square root function from the python package numpy\n",
    "x1 = (-b + np.sqrt(b**2 - 4*a*c))/(2*a)  \n",
    "print (x1)\n",
    "\n",
    "x_2 = (-b - np.sqrt(b*b - 4*a*c))/(2*a)\n",
    "print(x_2)"
   ]
  },
  {
   "cell_type": "code",
   "execution_count": 32,
   "id": "99deac98",
   "metadata": {},
   "outputs": [
    {
     "name": "stdout",
     "output_type": "stream",
     "text": [
      "<class 'numpy.float64'> <class 'numpy.float64'>\n"
     ]
    }
   ],
   "source": [
    "print(type(x1), type(x_2))"
   ]
  },
  {
   "cell_type": "markdown",
   "id": "e618e6f7",
   "metadata": {},
   "source": [
    "### Some Coding Shorthands"
   ]
  },
  {
   "cell_type": "code",
   "execution_count": 33,
   "id": "677fd731",
   "metadata": {},
   "outputs": [
    {
     "name": "stdout",
     "output_type": "stream",
     "text": [
      "11\n",
      "17\n",
      "10.0\n",
      "90\n"
     ]
    }
   ],
   "source": [
    "x = 5\n",
    "x = x + 6\n",
    "print(x)\n",
    "x+=6\n",
    "print(x)\n",
    "y = 100.\n",
    "y /= 10.\n",
    "print(y)\n",
    "i = 100\n",
    "i -= 10 \n",
    "print(i)"
   ]
  },
  {
   "cell_type": "markdown",
   "id": "7dbe3b70",
   "metadata": {},
   "source": [
    "### Order of Operations"
   ]
  },
  {
   "cell_type": "code",
   "execution_count": 34,
   "id": "7628651a",
   "metadata": {},
   "outputs": [
    {
     "data": {
      "text/plain": [
       "8"
      ]
     },
     "execution_count": 34,
     "metadata": {},
     "output_type": "execute_result"
    }
   ],
   "source": [
    "(2+2)*2 #PEMDAS!!"
   ]
  },
  {
   "cell_type": "code",
   "execution_count": 35,
   "id": "87159d01",
   "metadata": {},
   "outputs": [
    {
     "data": {
      "text/plain": [
       "7.5"
      ]
     },
     "execution_count": 35,
     "metadata": {},
     "output_type": "execute_result"
    }
   ],
   "source": [
    "(2+2)*2-1/2 #PEMDAS!!!!!!"
   ]
  },
  {
   "cell_type": "markdown",
   "id": "7ffd5390",
   "metadata": {},
   "source": [
    "### Limits of Python"
   ]
  },
  {
   "cell_type": "code",
   "execution_count": 36,
   "id": "3c592b7f",
   "metadata": {},
   "outputs": [
    {
     "data": {
      "text/plain": [
       "1.7e+308"
      ]
     },
     "execution_count": 36,
     "metadata": {},
     "output_type": "execute_result"
    }
   ],
   "source": [
    "#Largest representable float\n",
    "1.7e+308"
   ]
  },
  {
   "cell_type": "code",
   "execution_count": 37,
   "id": "6b030c0f",
   "metadata": {},
   "outputs": [
    {
     "data": {
      "text/plain": [
       "inf"
      ]
     },
     "execution_count": 37,
     "metadata": {},
     "output_type": "execute_result"
    }
   ],
   "source": [
    "#What happens if you try anything bigger?\n",
    "1.8e308"
   ]
  },
  {
   "cell_type": "code",
   "execution_count": 38,
   "id": "30ab2c28",
   "metadata": {},
   "outputs": [
    {
     "data": {
      "text/plain": [
       "5e-324"
      ]
     },
     "execution_count": 38,
     "metadata": {},
     "output_type": "execute_result"
    }
   ],
   "source": [
    "#Smallest representable float \n",
    "5e-324"
   ]
  },
  {
   "cell_type": "code",
   "execution_count": 39,
   "id": "a2b63993",
   "metadata": {},
   "outputs": [
    {
     "data": {
      "text/plain": [
       "0.0"
      ]
     },
     "execution_count": 39,
     "metadata": {},
     "output_type": "execute_result"
    }
   ],
   "source": [
    "#What happens if you try anything smaller?\n",
    "2e-324"
   ]
  },
  {
   "cell_type": "markdown",
   "id": "af3d85a5",
   "metadata": {},
   "source": [
    "### Complex Numbers"
   ]
  },
  {
   "cell_type": "markdown",
   "id": "528376b2",
   "metadata": {},
   "source": [
    "Complex numbers and arithmetic are built into Python (very convenient). Mathematical functions are also provided for manipulating complex numbers. Math package defines real functions, cmath defines complex functions."
   ]
  },
  {
   "cell_type": "code",
   "execution_count": 40,
   "id": "f17dba59",
   "metadata": {},
   "outputs": [
    {
     "name": "stdout",
     "output_type": "stream",
     "text": [
      "3.1622776601683795j\n"
     ]
    }
   ],
   "source": [
    "import math as m\n",
    "import cmath as cm\n",
    "\n",
    "\n",
    "print (cm.sqrt(-10))"
   ]
  },
  {
   "cell_type": "code",
   "execution_count": 41,
   "id": "93a627a8",
   "metadata": {},
   "outputs": [
    {
     "name": "stdout",
     "output_type": "stream",
     "text": [
      "1j\n"
     ]
    }
   ],
   "source": [
    "print(cm.sqrt(-1))"
   ]
  },
  {
   "cell_type": "code",
   "execution_count": 42,
   "id": "a78ca08b",
   "metadata": {},
   "outputs": [
    {
     "name": "stdout",
     "output_type": "stream",
     "text": [
      "nan\n"
     ]
    },
    {
     "name": "stderr",
     "output_type": "stream",
     "text": [
      "C:\\Users\\djkly\\AppData\\Local\\Temp\\ipykernel_25868\\267541580.py:1: RuntimeWarning: invalid value encountered in sqrt\n",
      "  print(np.sqrt(-1))\n"
     ]
    }
   ],
   "source": [
    "print(np.sqrt(-1))"
   ]
  },
  {
   "cell_type": "markdown",
   "id": "05301bf5",
   "metadata": {},
   "source": [
    "### Sig Figs"
   ]
  },
  {
   "cell_type": "code",
   "execution_count": 43,
   "id": "51ad9c94",
   "metadata": {},
   "outputs": [
    {
     "name": "stdout",
     "output_type": "stream",
     "text": [
      "h = 1234.6\n",
      "h = 1234.57\n",
      "h = 1234.568\n",
      "h = 1234.5678\n",
      "h = 1235\n",
      "h =  1234.6\n"
     ]
    }
   ],
   "source": [
    "#How to change the number of significant figures you print\n",
    "h = 1234.5678\n",
    "print('h = {0:6.1f}'.format(h))\n",
    "print('h = {0:6.2f}'.format(h))\n",
    "print('h = {0:6.3f}'.format(h))\n",
    "print('h = {0:6.4f}'.format(h))\n",
    "print('h = {0:2.0f}'.format(h))\n",
    "print('h = ', 1234.6)"
   ]
  },
  {
   "cell_type": "code",
   "execution_count": null,
   "id": "87992323",
   "metadata": {},
   "outputs": [],
   "source": []
  }
 ],
 "metadata": {
  "kernelspec": {
   "display_name": "Python 3 (ipykernel)",
   "language": "python",
   "name": "python3"
  },
  "language_info": {
   "codemirror_mode": {
    "name": "ipython",
    "version": 3
   },
   "file_extension": ".py",
   "mimetype": "text/x-python",
   "name": "python",
   "nbconvert_exporter": "python",
   "pygments_lexer": "ipython3",
   "version": "3.11.5"
  }
 },
 "nbformat": 4,
 "nbformat_minor": 5
}
