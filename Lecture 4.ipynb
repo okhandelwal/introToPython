{
 "cells": [
  {
   "cell_type": "markdown",
   "id": "23a72f31",
   "metadata": {},
   "source": [
    "# Astro 9"
   ]
  },
  {
   "cell_type": "markdown",
   "id": "3ffe9849",
   "metadata": {},
   "source": [
    "# Lecture 4: Intro to Loops"
   ]
  },
  {
   "cell_type": "code",
   "execution_count": 1,
   "id": "60233acd",
   "metadata": {},
   "outputs": [],
   "source": [
    "import numpy as np \n",
    "import matplotlib.pyplot as plt"
   ]
  },
  {
   "cell_type": "markdown",
   "id": "a43f950c",
   "metadata": {},
   "source": [
    "### While\n",
    "\n",
    "The while loop repeats and execution while (as long as) a condition is valid."
   ]
  },
  {
   "cell_type": "code",
   "execution_count": 2,
   "id": "578d373d",
   "metadata": {},
   "outputs": [
    {
     "name": "stdout",
     "output_type": "stream",
     "text": [
      "1\n",
      "2\n",
      "3\n",
      "4\n",
      "5\n"
     ]
    }
   ],
   "source": [
    "i = 1\n",
    "while i < 6:\n",
    "    print(i)\n",
    "    i += 1"
   ]
  },
  {
   "cell_type": "code",
   "execution_count": 3,
   "id": "e6ea24b4",
   "metadata": {},
   "outputs": [
    {
     "name": "stdout",
     "output_type": "stream",
     "text": [
      "10\n",
      "20\n",
      "30\n",
      "40\n",
      "50\n",
      "60\n",
      "70\n",
      "80\n",
      "90\n",
      "100\n",
      "100 10\n"
     ]
    }
   ],
   "source": [
    "sums = 0\n",
    "count = 0\n",
    "while sums < 99:\n",
    "    sums += 10\n",
    "    count += 1\n",
    "    print(sums)\n",
    "    \n",
    "print(sums, count)"
   ]
  },
  {
   "cell_type": "markdown",
   "id": "f50f0271",
   "metadata": {},
   "source": [
    "Beware of potential for getting into an infinite loops !"
   ]
  },
  {
   "cell_type": "code",
   "execution_count": 3,
   "id": "e01f8f06",
   "metadata": {
    "scrolled": true
   },
   "outputs": [],
   "source": [
    "sums = 0\n",
    "count = 0\n",
    "while count < 99:\n",
    "    sums += 10\n",
    "    print(count)"
   ]
  },
  {
   "cell_type": "markdown",
   "id": "b332e673",
   "metadata": {},
   "source": [
    "We can also write loops into functions"
   ]
  },
  {
   "cell_type": "code",
   "execution_count": 4,
   "id": "d1a4b76b",
   "metadata": {},
   "outputs": [],
   "source": [
    "import numpy as np\n",
    "def counter(n):\n",
    "    count = 0\n",
    "    while count < n:\n",
    "        print(np.random.rand(1,6))\n",
    "        count += 1\n",
    "    return"
   ]
  },
  {
   "cell_type": "code",
   "execution_count": 5,
   "id": "f1100f60",
   "metadata": {},
   "outputs": [
    {
     "name": "stdout",
     "output_type": "stream",
     "text": [
      "[[0.98870873 0.99871422 0.12846622 0.47677725 0.45766118 0.10422553]]\n"
     ]
    }
   ],
   "source": [
    "counter(1)"
   ]
  },
  {
   "cell_type": "markdown",
   "id": "86726022",
   "metadata": {},
   "source": [
    "Use a loop to make an interactive cell with a conditional"
   ]
  },
  {
   "cell_type": "code",
   "execution_count": 7,
   "id": "db433623",
   "metadata": {},
   "outputs": [
    {
     "name": "stdout",
     "output_type": "stream",
     "text": [
      "Enter a number: 5\n",
      "Enter a number: 4\n",
      "Enter a number: 2\n",
      "Enter a number: 10\n",
      "Enter a number: 1\n",
      "Enter a number: 0\n",
      "total = 22\n"
     ]
    }
   ],
   "source": [
    "# program to calculate the sum of numbers\n",
    "# until the user enters zero\n",
    "\n",
    "total = 0\n",
    "\n",
    "number = int(input('Enter a number: '))\n",
    "\n",
    "# add numbers until number is zero\n",
    "while number != 0:\n",
    "    total += number    # total = total + number\n",
    "    \n",
    "    # take integer input again\n",
    "    number = int(input('Enter a number: '))\n",
    "    \n",
    "\n",
    "print('total =', total)"
   ]
  },
  {
   "cell_type": "markdown",
   "id": "3f760e4d",
   "metadata": {},
   "source": [
    "## For\n",
    "\n",
    "The for loop is more conventional and repeats the execution for an index within a given range. This is similar to for() loop in C or other languages"
   ]
  },
  {
   "cell_type": "code",
   "execution_count": 8,
   "id": "3467220a",
   "metadata": {},
   "outputs": [
    {
     "name": "stdout",
     "output_type": "stream",
     "text": [
      "[0 1 2 3 4 5 6 7 8 9]\n"
     ]
    }
   ],
   "source": [
    "list = np.arange(0,10)\n",
    "print((list))"
   ]
  },
  {
   "cell_type": "code",
   "execution_count": 9,
   "id": "41e06248",
   "metadata": {},
   "outputs": [
    {
     "name": "stdout",
     "output_type": "stream",
     "text": [
      "0 0\n",
      "1 2\n",
      "2 4\n",
      "3 6\n",
      "4 8\n",
      "5 10\n",
      "6 12\n",
      "7 14\n",
      "8 16\n",
      "9 18\n"
     ]
    }
   ],
   "source": [
    "for i in list:    # loop from 0 to 10, not including 10, with step = 1\n",
    "    print (i, i*2)"
   ]
  },
  {
   "cell_type": "code",
   "execution_count": 10,
   "id": "ea598e8e",
   "metadata": {},
   "outputs": [
    {
     "name": "stdout",
     "output_type": "stream",
     "text": [
      "0\n",
      "2\n",
      "4\n",
      "6\n",
      "8\n"
     ]
    }
   ],
   "source": [
    "for i in range(0,10,2):   # loop from 0 to 10, not including 10, with step = 2\n",
    "    print (i)"
   ]
  },
  {
   "cell_type": "code",
   "execution_count": 11,
   "id": "109189f5",
   "metadata": {},
   "outputs": [
    {
     "name": "stdout",
     "output_type": "stream",
     "text": [
      "[1, 2, 3, 4, 7, 111.0, 67.0, 12]\n",
      "1\n",
      "4\n",
      "9\n",
      "16\n",
      "49\n",
      "12321.0\n",
      "4489.0\n",
      "144\n",
      "4\n"
     ]
    }
   ],
   "source": [
    "list = [1,2,3,4,7,111.,67.] # iterate over elements of the list\n",
    "list.append(12) # what happens here ?\n",
    "print(list)\n",
    "for x in list:\n",
    "    print (x**2)\n",
    "    \n",
    "print(list[3]) #printing i for i = 3"
   ]
  },
  {
   "cell_type": "markdown",
   "id": "8099e6ea",
   "metadata": {},
   "source": [
    "You can iterate over lists produced by other functions, e.g. a list of keys to a dictionary "
   ]
  },
  {
   "cell_type": "code",
   "execution_count": 12,
   "id": "6b68bf76",
   "metadata": {},
   "outputs": [
    {
     "name": "stdout",
     "output_type": "stream",
     "text": [
      "['Johnny', 'Janie', 'Billy']\n",
      "Johnny Baker\n",
      "Janie Jones\n",
      "Billy Bones\n"
     ]
    }
   ],
   "source": [
    "lastnames = {}                        # create a dictionary\n",
    "lastnames['Billy'] = 'Bones'\n",
    "lastnames['Janie'] = 'Jones'\n",
    "lastnames['Johnny'] = 'Baker'\n",
    "list = sorted(lastnames.keys(),reverse=True)\n",
    "print(list)\n",
    "for key in list:          # iterate over elements of the dictionary\n",
    "    print (key, lastnames[key])"
   ]
  },
  {
   "cell_type": "code",
   "execution_count": 33,
   "id": "1a0664b4",
   "metadata": {},
   "outputs": [
    {
     "name": "stdout",
     "output_type": "stream",
     "text": [
      "[0.6, 0.7, 0.8, 0.75, 0.84, 0.8333333333333334, 0.9142857142857143, 1.0, 1.0222222222222221]\n"
     ]
    }
   ],
   "source": [
    "t = [0, 5, 10, 15, 20, 25, 30, 35, 40, 45, 50]\n",
    "x = [0, 3, 7, 12, 15, 21, 25, 32, 40, 46, 55]\n",
    "\n",
    "v = []\n",
    "for i in range(1,10):\n",
    "    vel = x[i] / t[i]\n",
    "    v.append(vel)\n",
    "    \n",
    "print(v)"
   ]
  },
  {
   "cell_type": "markdown",
   "id": "6b9c744f",
   "metadata": {},
   "source": [
    "### Nesting and recursive functions"
   ]
  },
  {
   "cell_type": "markdown",
   "id": "26ae71da",
   "metadata": {},
   "source": [
    "We have seen already a few examples of a loops within functions: this called nesting. Python sets no limit to nesting, i.e. you can have infinite statements and loops within each other."
   ]
  },
  {
   "cell_type": "code",
   "execution_count": 36,
   "id": "3feeb7af",
   "metadata": {},
   "outputs": [
    {
     "name": "stdout",
     "output_type": "stream",
     "text": [
      "***\n",
      "***\n",
      "***\n",
      "***\n",
      "***\n"
     ]
    }
   ],
   "source": [
    "#Print a rectangular Pattern\n",
    "# 5 row\n",
    "for name in range(5):\n",
    "    # 3 column\n",
    "    for j in range(3):\n",
    "        print('*', end='')\n",
    "    print()"
   ]
  },
  {
   "cell_type": "code",
   "execution_count": 45,
   "id": "734b213d",
   "metadata": {},
   "outputs": [
    {
     "name": "stdout",
     "output_type": "stream",
     "text": [
      "2 * 4 =  8\n",
      "2 * 6 =  12\n",
      "4 * 2 =  8\n",
      "4 * 6 =  24\n",
      "6 * 2 =  12\n",
      "6 * 4 =  24\n"
     ]
    }
   ],
   "source": [
    "#Print out your multiplication tables\n",
    "first = [2, 4, 6]\n",
    "second = [2, 4, 6]\n",
    "for i in first:\n",
    "    for j in second:\n",
    "        if i == j:\n",
    "            continue\n",
    "        print(i, '*', j, '= ', i * j)"
   ]
  },
  {
   "cell_type": "code",
   "execution_count": 2,
   "id": "eec82a0b",
   "metadata": {},
   "outputs": [
    {
     "name": "stdout",
     "output_type": "stream",
     "text": [
      "1 2 3 4 5 6 7 8 9 10 \n",
      "2 4 6 8 10 12 14 16 18 20 \n",
      "3 6 9 12 15 18 21 24 27 30 \n",
      "4 8 12 16 20 24 28 32 36 40 \n",
      "5 10 15 20 25 30 35 40 45 50 \n",
      "6 12 18 24 30 36 42 48 54 60 \n",
      "7 14 21 28 35 42 49 56 63 70 \n",
      "8 16 24 32 40 48 56 64 72 80 \n",
      "9 18 27 36 45 54 63 72 81 90 \n",
      "10 20 30 40 50 60 70 80 90 100 \n"
     ]
    }
   ],
   "source": [
    "for i in range(1,11):\n",
    "    for j in range(1,11):\n",
    "        print(i*j, end=\" \")\n",
    "    print('')\n"
   ]
  },
  {
   "cell_type": "code",
   "execution_count": 6,
   "id": "75c4a3e6",
   "metadata": {},
   "outputs": [
    {
     "data": {
      "image/png": "[encoded data removed]",
      "text/plain": [
       "<Figure size 432x288 with 1 Axes>"
      ]
     },
     "metadata": {
      "needs_background": "light"
     },
     "output_type": "display_data"
    }
   ],
   "source": [
    "r=np.linspace(2.8,4,10000) #set the r values that are going to be graphed\n",
    "\n",
    "# create blank arrays for the x and r values\n",
    "R = []\n",
    "X = []\n",
    "\n",
    "for i in r:\n",
    "    # start filling the R array with our r values\n",
    "    R.append(i)\n",
    "    #setting a random x_0 that will ultimatley not matter because we are working after transients die out\n",
    "    ##but is need to find those higher iterations\n",
    "    x_0 = np.random.random()\n",
    "    for n in range(1001): #create data to fill in the x array with the f(x) equation based on our r values\n",
    "        x_0=(i*x_0)*(1-x_0)\n",
    "    \n",
    "    X.append(x_0) #fill in the X array with our new x data\n",
    "\n",
    "plt.plot(R, X,'k,')\n",
    "plt.show()\n"
   ]
  },
  {
   "cell_type": "code",
   "execution_count": 8,
   "id": "61b9a0d2",
   "metadata": {},
   "outputs": [
    {
     "name": "stdout",
     "output_type": "stream",
     "text": [
      "factorial(10)= 3628800\n",
      "factorial(1)= 1\n",
      "factorial(2)= 2\n",
      "factorial(3)= 6\n",
      "factorial(4)=24\n"
     ]
    }
   ],
   "source": [
    "def factorial(n):                # definition of the function\n",
    "    value = 1\n",
    "    for i in range(2,n+1):       # loop\n",
    "        value *= i               # increment factorial \n",
    "        \n",
    "    return value                 # return value\n",
    "\n",
    "print ('factorial(10)=',factorial(10))\n",
    "for i in range(1,5):\n",
    "    print ('factorial(%d)=%2d' % (i,factorial(i)))"
   ]
  },
  {
   "cell_type": "code",
   "execution_count": null,
   "id": "32491b31",
   "metadata": {},
   "outputs": [],
   "source": []
  }
 ],
 "metadata": {
  "kernelspec": {
   "display_name": "Python 3 (ipykernel)",
   "language": "python",
   "name": "python3"
  },
  "language_info": {
   "codemirror_mode": {
    "name": "ipython",
    "version": 3
   },
   "file_extension": ".py",
   "mimetype": "text/x-python",
   "name": "python",
   "nbconvert_exporter": "python",
   "pygments_lexer": "ipython3",
   "version": "3.11.5"
  }
 },
 "nbformat": 4,
 "nbformat_minor": 5
}
