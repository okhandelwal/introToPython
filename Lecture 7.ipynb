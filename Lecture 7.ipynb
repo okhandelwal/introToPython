{
 "cells": [
  {
   "cell_type": "markdown",
   "metadata": {},
   "source": [
    "# Astro 9"
   ]
  },
  {
   "cell_type": "markdown",
   "metadata": {},
   "source": [
    "# Lecture 7: Introduction to Pandas"
   ]
  },
  {
   "cell_type": "markdown",
   "metadata": {},
   "source": [
    "**Create Data** - We begin by creating our own data set for analysis. This prevents the end user reading this tutorial from having to download any files to replicate the results below. We will export this data set to a text file so that you can get some experience pulling data from a text file.  \n",
    "**Get Data** - We will learn how to read in the text file. The data consist of baby names and the number of baby names born in the year 1880.  \n",
    "**Prepare Data** - Here we will simply take a look at the data and make sure it is clean. By clean I mean we will take a look inside the contents of the text file and look for any anomalities. These can include missing data, inconsistencies in the data, or any other data that seems out of place. If any are found we will then have to make decisions on what to do with these records.  \n",
    "**Analyze Data** - We will simply find the most popular name in a specific year.  "
   ]
  },
  {
   "cell_type": "markdown",
   "metadata": {},
   "source": [
    "> The ***pandas*** library is used for all the data analysis excluding a small piece of the data presentation section. The ***matplotlib*** library will only be needed for the data presentation section. Importing the libraries is the first step we will take in the lesson."
   ]
  },
  {
   "cell_type": "code",
   "execution_count": 1,
   "metadata": {},
   "outputs": [],
   "source": [
    "# Import all libraries needed for the tutorial\n",
    "\n",
    "# General syntax to import specific functions in a library: \n",
    "##from (library) import (specific library function)\n",
    "from pandas import DataFrame, read_csv\n",
    "\n",
    "# General syntax to import a library but no functions: \n",
    "##import (library) as (give the library a nickname/alias)\n",
    "import matplotlib.pyplot as plt\n",
    "import numpy as np\n",
    "import pandas as pd #this is how I usually import pandas\n",
    "import sys #only needed to determine Python version number\n",
    "import matplotlib #only needed to determine Matplotlib version number\n",
    "\n",
    "# Enable inline plotting\n",
    "%matplotlib inline"
   ]
  },
  {
   "cell_type": "code",
   "execution_count": 2,
   "metadata": {},
   "outputs": [
    {
     "name": "stdout",
     "output_type": "stream",
     "text": [
      "Python version 3.11.5 | packaged by Anaconda, Inc. | (main, Sep 11 2023, 13:26:23) [MSC v.1916 64 bit (AMD64)]\n",
      "Pandas version 2.0.3\n",
      "Matplotlib version 3.7.2\n"
     ]
    }
   ],
   "source": [
    "print('Python version ' + sys.version)\n",
    "print('Pandas version ' + pd.__version__)\n",
    "print('Matplotlib version ' + matplotlib.__version__)"
   ]
  },
  {
   "cell_type": "markdown",
   "metadata": {},
   "source": [
    "# Create Data  \n",
    "\n",
    "The data set will consist of 5 baby names and the number of births recorded for that year (1880)."
   ]
  },
  {
   "cell_type": "code",
   "execution_count": 4,
   "metadata": {
    "scrolled": true
   },
   "outputs": [
    {
     "name": "stdout",
     "output_type": "stream",
     "text": [
      "Mary\n"
     ]
    }
   ],
   "source": [
    "# The inital set of baby names and birth rates\n",
    "first_names = ['Bob','Jessica','Mary','John','Mel']\n",
    "#last_name = ['Hope', 'Drew', 'Poppins', 'Lennon', 'Brooks']\n",
    "births = [968, 155, 77, 578, 973]\n",
    "\n",
    "print (first_names[2])"
   ]
  },
  {
   "cell_type": "markdown",
   "metadata": {},
   "source": [
    "To merge these two lists together we will use the ***zip*** function."
   ]
  },
  {
   "cell_type": "code",
   "execution_count": 6,
   "metadata": {},
   "outputs": [
    {
     "data": {
      "text/plain": [
       "[('Bob', 968), ('Jessica', 155), ('Mary', 77), ('John', 578), ('Mel', 973)]"
      ]
     },
     "execution_count": 6,
     "metadata": {},
     "output_type": "execute_result"
    }
   ],
   "source": [
    "#Babydata = {'names': names, 'count': births}\n",
    "BabyDataSet = list((zip(first_names,births)))\n",
    "BabyDataSet"
   ]
  },
  {
   "cell_type": "markdown",
   "metadata": {},
   "source": [
    "We are basically done creating the data set. We now will use the ***pandas*** library to export this data set into a csv file. \n",
    "\n",
    "***df*** will be a ***DataFrame*** object. You can think of this object holding the contents of the BabyDataSet in a format similar to a sql table or an excel spreadsheet. Lets take a look below at the contents inside ***df***."
   ]
  },
  {
   "cell_type": "code",
   "execution_count": 8,
   "metadata": {},
   "outputs": [
    {
     "data": {
      "text/html": [
       "<div>\n",
       "<style scoped>\n",
       "    .dataframe tbody tr th:only-of-type {\n",
       "        vertical-align: middle;\n",
       "    }\n",
       "\n",
       "    .dataframe tbody tr th {\n",
       "        vertical-align: top;\n",
       "    }\n",
       "\n",
       "    .dataframe thead th {\n",
       "        text-align: right;\n",
       "    }\n",
       "</style>\n",
       "<table border=\"1\" class=\"dataframe\">\n",
       "  <thead>\n",
       "    <tr style=\"text-align: right;\">\n",
       "      <th></th>\n",
       "      <th>Names</th>\n",
       "      <th>Births</th>\n",
       "    </tr>\n",
       "  </thead>\n",
       "  <tbody>\n",
       "    <tr>\n",
       "      <th>0</th>\n",
       "      <td>Bob</td>\n",
       "      <td>968</td>\n",
       "    </tr>\n",
       "    <tr>\n",
       "      <th>1</th>\n",
       "      <td>Jessica</td>\n",
       "      <td>155</td>\n",
       "    </tr>\n",
       "    <tr>\n",
       "      <th>2</th>\n",
       "      <td>Mary</td>\n",
       "      <td>77</td>\n",
       "    </tr>\n",
       "    <tr>\n",
       "      <th>3</th>\n",
       "      <td>John</td>\n",
       "      <td>578</td>\n",
       "    </tr>\n",
       "    <tr>\n",
       "      <th>4</th>\n",
       "      <td>Mel</td>\n",
       "      <td>973</td>\n",
       "    </tr>\n",
       "  </tbody>\n",
       "</table>\n",
       "</div>"
      ],
      "text/plain": [
       "     Names  Births\n",
       "0      Bob     968\n",
       "1  Jessica     155\n",
       "2     Mary      77\n",
       "3     John     578\n",
       "4      Mel     973"
      ]
     },
     "execution_count": 8,
     "metadata": {},
     "output_type": "execute_result"
    }
   ],
   "source": [
    "df = pd.DataFrame(data=BabyDataSet, columns=['Names', 'Births'])\n",
    "df"
   ]
  },
  {
   "cell_type": "code",
   "execution_count": 9,
   "metadata": {},
   "outputs": [
    {
     "data": {
      "text/plain": [
       "['Bob', 'Jessica', 'Mary', 'John', 'Mel']"
      ]
     },
     "execution_count": 9,
     "metadata": {},
     "output_type": "execute_result"
    }
   ],
   "source": [
    "names=df['Names'].to_list()\n",
    "names"
   ]
  },
  {
   "cell_type": "markdown",
   "metadata": {},
   "source": [
    "Export the dataframe to a ***csv*** file. We can name the file ***births1880.csv***. The function ***to_csv*** will be used to export the file. The file will be saved in the same location of the notebook unless specified otherwise."
   ]
  },
  {
   "cell_type": "markdown",
   "metadata": {},
   "source": [
    "The only parameters we will use is ***index*** and ***header***. Setting these parameters to False will prevent the index and header names from being exported. Change the values of these parameters to get a better understanding of their use."
   ]
  },
  {
   "cell_type": "code",
   "execution_count": 10,
   "metadata": {},
   "outputs": [],
   "source": [
    "df.to_csv('births1880.csv',index=True,header=True)"
   ]
  },
  {
   "cell_type": "markdown",
   "metadata": {},
   "source": [
    "## Get Data"
   ]
  },
  {
   "cell_type": "markdown",
   "metadata": {},
   "source": [
    "To pull in the csv file, we will use the pandas function *read_csv*. Let us take a look at this function and what inputs it takes."
   ]
  },
  {
   "cell_type": "markdown",
   "metadata": {},
   "source": [
    "Even though this functions has many parameters, we will simply pass it the location of the text file.  \n",
    "\n",
    "Location = births1880.csv  \n",
    "\n",
    "***Note:*** Depending on where you save your notebooks, you may need to modify the location above.  "
   ]
  },
  {
   "cell_type": "code",
   "execution_count": 11,
   "metadata": {},
   "outputs": [],
   "source": [
    "Location = r'births1880.csv'\n",
    "df2 = pd.read_csv(Location,index_col=0)"
   ]
  },
  {
   "cell_type": "markdown",
   "metadata": {},
   "source": [
    "Notice the ***r*** before the string. Since the slashes are special characters but are used to separate folders in a path on Windows, prefixing the string with a ***r*** will ensure that the file name is read correctly on any OS  "
   ]
  },
  {
   "cell_type": "code",
   "execution_count": 12,
   "metadata": {},
   "outputs": [
    {
     "data": {
      "text/html": [
       "<div>\n",
       "<style scoped>\n",
       "    .dataframe tbody tr th:only-of-type {\n",
       "        vertical-align: middle;\n",
       "    }\n",
       "\n",
       "    .dataframe tbody tr th {\n",
       "        vertical-align: top;\n",
       "    }\n",
       "\n",
       "    .dataframe thead th {\n",
       "        text-align: right;\n",
       "    }\n",
       "</style>\n",
       "<table border=\"1\" class=\"dataframe\">\n",
       "  <thead>\n",
       "    <tr style=\"text-align: right;\">\n",
       "      <th></th>\n",
       "      <th>Names</th>\n",
       "      <th>Births</th>\n",
       "    </tr>\n",
       "  </thead>\n",
       "  <tbody>\n",
       "    <tr>\n",
       "      <th>0</th>\n",
       "      <td>Bob</td>\n",
       "      <td>968</td>\n",
       "    </tr>\n",
       "    <tr>\n",
       "      <th>1</th>\n",
       "      <td>Jessica</td>\n",
       "      <td>155</td>\n",
       "    </tr>\n",
       "    <tr>\n",
       "      <th>2</th>\n",
       "      <td>Mary</td>\n",
       "      <td>77</td>\n",
       "    </tr>\n",
       "    <tr>\n",
       "      <th>3</th>\n",
       "      <td>John</td>\n",
       "      <td>578</td>\n",
       "    </tr>\n",
       "    <tr>\n",
       "      <th>4</th>\n",
       "      <td>Mel</td>\n",
       "      <td>973</td>\n",
       "    </tr>\n",
       "  </tbody>\n",
       "</table>\n",
       "</div>"
      ],
      "text/plain": [
       "     Names  Births\n",
       "0      Bob     968\n",
       "1  Jessica     155\n",
       "2     Mary      77\n",
       "3     John     578\n",
       "4      Mel     973"
      ]
     },
     "execution_count": 12,
     "metadata": {},
     "output_type": "execute_result"
    }
   ],
   "source": [
    "df2"
   ]
  },
  {
   "cell_type": "markdown",
   "metadata": {},
   "source": [
    "The ***read_csv*** function treated the first record in the csv file as the header names. If the file has no header, we can pass the ***header*** parameter to the *read_csv* function and set it to ***None*** (means null in python)."
   ]
  },
  {
   "cell_type": "markdown",
   "metadata": {},
   "source": [
    "You can think of the numbers [0,1,2,3,4] as the row numbers in an Excel file. In pandas these are part of the ***index*** of the dataframe. You can think of the index as the primary key of a sql table with the exception that an index is allowed to have duplicates.  \n",
    "\n",
    "***[Names, Births]*** can be though of as column headers similar to the ones found in an Excel spreadsheet or sql database."
   ]
  },
  {
   "cell_type": "markdown",
   "metadata": {},
   "source": [
    "You can delete the CSV file now"
   ]
  },
  {
   "cell_type": "code",
   "execution_count": 13,
   "metadata": {},
   "outputs": [],
   "source": [
    "import os\n",
    "os.remove(Location)"
   ]
  },
  {
   "cell_type": "markdown",
   "metadata": {},
   "source": [
    "## Prepare Data"
   ]
  },
  {
   "cell_type": "markdown",
   "metadata": {},
   "source": [
    "The data we have consists of baby names and the number of births in the year 1880. We already know that we have 5 records and none of the records are missing (non-null values).  "
   ]
  },
  {
   "cell_type": "markdown",
   "metadata": {},
   "source": [
    "The ***Names*** column at this point is of no concern since it most likely is just composed of alpha numeric strings (baby names). There is a chance of bad data in this column but we will not worry about that at this point of the analysis. The ***Births*** column should just contain integers representing the number of babies born in a specific year with a specific name. We can check if the all the data is of the data type integer. It would not make sense to have this column have a data type of float. I would not worry about any possible outliers at this point of the analysis.  \n",
    "\n",
    "Realize that aside from the check we did on the \"Names\" column, briefly looking at the data inside the dataframe should be as far as we need to go at this stage of the game. As we continue in the data analysis life cycle we will have plenty of opportunities to find any issues with the data set."
   ]
  },
  {
   "cell_type": "code",
   "execution_count": 14,
   "metadata": {},
   "outputs": [
    {
     "data": {
      "text/plain": [
       "Names     object\n",
       "Births     int64\n",
       "dtype: object"
      ]
     },
     "execution_count": 14,
     "metadata": {},
     "output_type": "execute_result"
    }
   ],
   "source": [
    "# Check data type of the columns\n",
    "df.dtypes"
   ]
  },
  {
   "cell_type": "code",
   "execution_count": 15,
   "metadata": {},
   "outputs": [
    {
     "data": {
      "text/plain": [
       "dtype('int64')"
      ]
     },
     "execution_count": 15,
     "metadata": {},
     "output_type": "execute_result"
    }
   ],
   "source": [
    "# Check data type of Births column\n",
    "df.Births.dtype"
   ]
  },
  {
   "cell_type": "markdown",
   "metadata": {},
   "source": [
    "As you can see the *Births* column is of type ***int64***, thus no floats (decimal numbers) or alpha numeric characters will be present in this column."
   ]
  },
  {
   "cell_type": "markdown",
   "metadata": {},
   "source": [
    "## Analyze Data"
   ]
  },
  {
   "cell_type": "markdown",
   "metadata": {},
   "source": [
    "To find the most popular name or the baby name with the higest birth rate, we can do one of the following.  \n",
    "\n",
    "* Sort the dataframe and select the top row\n",
    "* Use the ***max()*** attribute to find the maximum value"
   ]
  },
  {
   "cell_type": "code",
   "execution_count": 21,
   "metadata": {},
   "outputs": [],
   "source": [
    "# Method 1:\n",
    "df = df.sort_values(['Births'], ascending=False)\n",
    "#df.head(5)"
   ]
  },
  {
   "cell_type": "code",
   "execution_count": 22,
   "metadata": {},
   "outputs": [
    {
     "data": {
      "text/html": [
       "<div>\n",
       "<style scoped>\n",
       "    .dataframe tbody tr th:only-of-type {\n",
       "        vertical-align: middle;\n",
       "    }\n",
       "\n",
       "    .dataframe tbody tr th {\n",
       "        vertical-align: top;\n",
       "    }\n",
       "\n",
       "    .dataframe thead th {\n",
       "        text-align: right;\n",
       "    }\n",
       "</style>\n",
       "<table border=\"1\" class=\"dataframe\">\n",
       "  <thead>\n",
       "    <tr style=\"text-align: right;\">\n",
       "      <th></th>\n",
       "      <th>Names</th>\n",
       "      <th>Births</th>\n",
       "    </tr>\n",
       "  </thead>\n",
       "  <tbody>\n",
       "    <tr>\n",
       "      <th>4</th>\n",
       "      <td>Mel</td>\n",
       "      <td>973</td>\n",
       "    </tr>\n",
       "    <tr>\n",
       "      <th>0</th>\n",
       "      <td>Bob</td>\n",
       "      <td>968</td>\n",
       "    </tr>\n",
       "    <tr>\n",
       "      <th>3</th>\n",
       "      <td>John</td>\n",
       "      <td>578</td>\n",
       "    </tr>\n",
       "    <tr>\n",
       "      <th>1</th>\n",
       "      <td>Jessica</td>\n",
       "      <td>155</td>\n",
       "    </tr>\n",
       "    <tr>\n",
       "      <th>2</th>\n",
       "      <td>Mary</td>\n",
       "      <td>77</td>\n",
       "    </tr>\n",
       "  </tbody>\n",
       "</table>\n",
       "</div>"
      ],
      "text/plain": [
       "     Names  Births\n",
       "4      Mel     973\n",
       "0      Bob     968\n",
       "3     John     578\n",
       "1  Jessica     155\n",
       "2     Mary      77"
      ]
     },
     "execution_count": 22,
     "metadata": {},
     "output_type": "execute_result"
    }
   ],
   "source": [
    "df"
   ]
  },
  {
   "cell_type": "code",
   "execution_count": 23,
   "metadata": {},
   "outputs": [
    {
     "name": "stdout",
     "output_type": "stream",
     "text": [
      "973 77\n",
      "Mel\n"
     ]
    }
   ],
   "source": [
    "# Method 2:\n",
    "print (df['Births'].max(),df['Births'].min())\n",
    "\n",
    "for i in range(len(df.Births)):\n",
    "    if df['Births'][i] == 973:\n",
    "        print(df['Names'][i])"
   ]
  },
  {
   "cell_type": "markdown",
   "metadata": {},
   "source": [
    "### Real Life Research Data"
   ]
  },
  {
   "cell_type": "code",
   "execution_count": 24,
   "metadata": {},
   "outputs": [],
   "source": [
    "d = np.load('total_output_gauss.npy') #load in the simulation data                             \n",
    "df = pd.DataFrame(d, columns=['x', 'y', 'A', 'B', 'C' ,'D']) #set sim data into a pandas dataframe "
   ]
  },
  {
   "cell_type": "code",
   "execution_count": 25,
   "metadata": {},
   "outputs": [
    {
     "data": {
      "text/html": [
       "<div>\n",
       "<style scoped>\n",
       "    .dataframe tbody tr th:only-of-type {\n",
       "        vertical-align: middle;\n",
       "    }\n",
       "\n",
       "    .dataframe tbody tr th {\n",
       "        vertical-align: top;\n",
       "    }\n",
       "\n",
       "    .dataframe thead th {\n",
       "        text-align: right;\n",
       "    }\n",
       "</style>\n",
       "<table border=\"1\" class=\"dataframe\">\n",
       "  <thead>\n",
       "    <tr style=\"text-align: right;\">\n",
       "      <th></th>\n",
       "      <th>x</th>\n",
       "      <th>y</th>\n",
       "      <th>A</th>\n",
       "      <th>B</th>\n",
       "      <th>C</th>\n",
       "      <th>D</th>\n",
       "    </tr>\n",
       "  </thead>\n",
       "  <tbody>\n",
       "    <tr>\n",
       "      <th>0</th>\n",
       "      <td>6.902494</td>\n",
       "      <td>18.881654</td>\n",
       "      <td>5299.648</td>\n",
       "      <td>16525.700</td>\n",
       "      <td>7644.164</td>\n",
       "      <td>30488.600</td>\n",
       "    </tr>\n",
       "    <tr>\n",
       "      <th>1</th>\n",
       "      <td>13.356464</td>\n",
       "      <td>3.222044</td>\n",
       "      <td>6519.173</td>\n",
       "      <td>7606.624</td>\n",
       "      <td>20308.930</td>\n",
       "      <td>24957.360</td>\n",
       "    </tr>\n",
       "    <tr>\n",
       "      <th>2</th>\n",
       "      <td>-8.491086</td>\n",
       "      <td>-1.934986</td>\n",
       "      <td>21080.180</td>\n",
       "      <td>18655.910</td>\n",
       "      <td>10464.880</td>\n",
       "      <td>9455.346</td>\n",
       "    </tr>\n",
       "    <tr>\n",
       "      <th>3</th>\n",
       "      <td>18.130391</td>\n",
       "      <td>2.994970</td>\n",
       "      <td>4054.916</td>\n",
       "      <td>4616.345</td>\n",
       "      <td>23222.240</td>\n",
       "      <td>28049.270</td>\n",
       "    </tr>\n",
       "    <tr>\n",
       "      <th>4</th>\n",
       "      <td>-17.222279</td>\n",
       "      <td>6.678018</td>\n",
       "      <td>19898.920</td>\n",
       "      <td>30634.160</td>\n",
       "      <td>4197.216</td>\n",
       "      <td>5654.460</td>\n",
       "    </tr>\n",
       "    <tr>\n",
       "      <th>...</th>\n",
       "      <td>...</td>\n",
       "      <td>...</td>\n",
       "      <td>...</td>\n",
       "      <td>...</td>\n",
       "      <td>...</td>\n",
       "      <td>...</td>\n",
       "    </tr>\n",
       "    <tr>\n",
       "      <th>9995</th>\n",
       "      <td>-5.008968</td>\n",
       "      <td>19.485800</td>\n",
       "      <td>7005.850</td>\n",
       "      <td>28978.110</td>\n",
       "      <td>5492.212</td>\n",
       "      <td>18762.120</td>\n",
       "    </tr>\n",
       "    <tr>\n",
       "      <th>9996</th>\n",
       "      <td>2.843897</td>\n",
       "      <td>-12.066803</td>\n",
       "      <td>17767.370</td>\n",
       "      <td>8559.614</td>\n",
       "      <td>22575.570</td>\n",
       "      <td>10324.380</td>\n",
       "    </tr>\n",
       "    <tr>\n",
       "      <th>9997</th>\n",
       "      <td>-7.341657</td>\n",
       "      <td>10.553256</td>\n",
       "      <td>12943.300</td>\n",
       "      <td>25976.550</td>\n",
       "      <td>7696.318</td>\n",
       "      <td>13831.000</td>\n",
       "    </tr>\n",
       "    <tr>\n",
       "      <th>9998</th>\n",
       "      <td>21.358022</td>\n",
       "      <td>-22.344911</td>\n",
       "      <td>2700.774</td>\n",
       "      <td>1068.960</td>\n",
       "      <td>31906.270</td>\n",
       "      <td>6439.290</td>\n",
       "    </tr>\n",
       "    <tr>\n",
       "      <th>9999</th>\n",
       "      <td>0.003874</td>\n",
       "      <td>-19.566368</td>\n",
       "      <td>23954.530</td>\n",
       "      <td>6243.627</td>\n",
       "      <td>24007.030</td>\n",
       "      <td>6251.020</td>\n",
       "    </tr>\n",
       "  </tbody>\n",
       "</table>\n",
       "<p>10000 rows × 6 columns</p>\n",
       "</div>"
      ],
      "text/plain": [
       "              x          y          A          B          C          D\n",
       "0      6.902494  18.881654   5299.648  16525.700   7644.164  30488.600\n",
       "1     13.356464   3.222044   6519.173   7606.624  20308.930  24957.360\n",
       "2     -8.491086  -1.934986  21080.180  18655.910  10464.880   9455.346\n",
       "3     18.130391   2.994970   4054.916   4616.345  23222.240  28049.270\n",
       "4    -17.222279   6.678018  19898.920  30634.160   4197.216   5654.460\n",
       "...         ...        ...        ...        ...        ...        ...\n",
       "9995  -5.008968  19.485800   7005.850  28978.110   5492.212  18762.120\n",
       "9996   2.843897 -12.066803  17767.370   8559.614  22575.570  10324.380\n",
       "9997  -7.341657  10.553256  12943.300  25976.550   7696.318  13831.000\n",
       "9998  21.358022 -22.344911   2700.774   1068.960  31906.270   6439.290\n",
       "9999   0.003874 -19.566368  23954.530   6243.627  24007.030   6251.020\n",
       "\n",
       "[10000 rows x 6 columns]"
      ]
     },
     "execution_count": 25,
     "metadata": {},
     "output_type": "execute_result"
    }
   ],
   "source": [
    "df"
   ]
  },
  {
   "cell_type": "code",
   "execution_count": 26,
   "metadata": {},
   "outputs": [
    {
     "data": {
      "text/html": [
       "<div>\n",
       "<style scoped>\n",
       "    .dataframe tbody tr th:only-of-type {\n",
       "        vertical-align: middle;\n",
       "    }\n",
       "\n",
       "    .dataframe tbody tr th {\n",
       "        vertical-align: top;\n",
       "    }\n",
       "\n",
       "    .dataframe thead th {\n",
       "        text-align: right;\n",
       "    }\n",
       "</style>\n",
       "<table border=\"1\" class=\"dataframe\">\n",
       "  <thead>\n",
       "    <tr style=\"text-align: right;\">\n",
       "      <th></th>\n",
       "      <th>x</th>\n",
       "      <th>y</th>\n",
       "      <th>A</th>\n",
       "      <th>B</th>\n",
       "      <th>C</th>\n",
       "      <th>D</th>\n",
       "    </tr>\n",
       "  </thead>\n",
       "  <tbody>\n",
       "    <tr>\n",
       "      <th>0</th>\n",
       "      <td>-26.999626</td>\n",
       "      <td>-18.359008</td>\n",
       "      <td>2411.17500</td>\n",
       "      <td>683.508700</td>\n",
       "      <td>130.20410</td>\n",
       "      <td>63.21367</td>\n",
       "    </tr>\n",
       "    <tr>\n",
       "      <th>1</th>\n",
       "      <td>-26.998278</td>\n",
       "      <td>-23.955833</td>\n",
       "      <td>1342.46500</td>\n",
       "      <td>245.210400</td>\n",
       "      <td>70.88792</td>\n",
       "      <td>28.34179</td>\n",
       "    </tr>\n",
       "    <tr>\n",
       "      <th>2</th>\n",
       "      <td>-26.995556</td>\n",
       "      <td>-5.039404</td>\n",
       "      <td>1882.73000</td>\n",
       "      <td>1380.625000</td>\n",
       "      <td>111.71440</td>\n",
       "      <td>92.24528</td>\n",
       "    </tr>\n",
       "    <tr>\n",
       "      <th>3</th>\n",
       "      <td>-26.989379</td>\n",
       "      <td>4.125864</td>\n",
       "      <td>1466.71900</td>\n",
       "      <td>1850.981000</td>\n",
       "      <td>96.22824</td>\n",
       "      <td>111.12800</td>\n",
       "    </tr>\n",
       "    <tr>\n",
       "      <th>4</th>\n",
       "      <td>-26.985018</td>\n",
       "      <td>-15.969134</td>\n",
       "      <td>2297.57400</td>\n",
       "      <td>802.912500</td>\n",
       "      <td>125.86800</td>\n",
       "      <td>67.91240</td>\n",
       "    </tr>\n",
       "    <tr>\n",
       "      <th>...</th>\n",
       "      <td>...</td>\n",
       "      <td>...</td>\n",
       "      <td>...</td>\n",
       "      <td>...</td>\n",
       "      <td>...</td>\n",
       "      <td>...</td>\n",
       "    </tr>\n",
       "    <tr>\n",
       "      <th>9995</th>\n",
       "      <td>26.961538</td>\n",
       "      <td>-6.317960</td>\n",
       "      <td>115.04630</td>\n",
       "      <td>90.549750</td>\n",
       "      <td>1960.64900</td>\n",
       "      <td>1328.88800</td>\n",
       "    </tr>\n",
       "    <tr>\n",
       "      <th>9996</th>\n",
       "      <td>26.971361</td>\n",
       "      <td>7.268447</td>\n",
       "      <td>85.55472</td>\n",
       "      <td>112.750300</td>\n",
       "      <td>1235.75600</td>\n",
       "      <td>1937.12400</td>\n",
       "    </tr>\n",
       "    <tr>\n",
       "      <th>9997</th>\n",
       "      <td>26.978905</td>\n",
       "      <td>22.225232</td>\n",
       "      <td>58.37614</td>\n",
       "      <td>142.105200</td>\n",
       "      <td>524.17440</td>\n",
       "      <td>2683.52700</td>\n",
       "    </tr>\n",
       "    <tr>\n",
       "      <th>9998</th>\n",
       "      <td>26.979568</td>\n",
       "      <td>-25.445131</td>\n",
       "      <td>19.84834</td>\n",
       "      <td>7.935589</td>\n",
       "      <td>375.88490</td>\n",
       "      <td>68.65793</td>\n",
       "    </tr>\n",
       "    <tr>\n",
       "      <th>9999</th>\n",
       "      <td>26.995533</td>\n",
       "      <td>-1.864692</td>\n",
       "      <td>100.27640</td>\n",
       "      <td>94.446330</td>\n",
       "      <td>1632.96000</td>\n",
       "      <td>1482.60400</td>\n",
       "    </tr>\n",
       "  </tbody>\n",
       "</table>\n",
       "<p>10000 rows × 6 columns</p>\n",
       "</div>"
      ],
      "text/plain": [
       "              x          y           A            B           C           D\n",
       "0    -26.999626 -18.359008  2411.17500   683.508700   130.20410    63.21367\n",
       "1    -26.998278 -23.955833  1342.46500   245.210400    70.88792    28.34179\n",
       "2    -26.995556  -5.039404  1882.73000  1380.625000   111.71440    92.24528\n",
       "3    -26.989379   4.125864  1466.71900  1850.981000    96.22824   111.12800\n",
       "4    -26.985018 -15.969134  2297.57400   802.912500   125.86800    67.91240\n",
       "...         ...        ...         ...          ...         ...         ...\n",
       "9995  26.961538  -6.317960   115.04630    90.549750  1960.64900  1328.88800\n",
       "9996  26.971361   7.268447    85.55472   112.750300  1235.75600  1937.12400\n",
       "9997  26.978905  22.225232    58.37614   142.105200   524.17440  2683.52700\n",
       "9998  26.979568 -25.445131    19.84834     7.935589   375.88490    68.65793\n",
       "9999  26.995533  -1.864692   100.27640    94.446330  1632.96000  1482.60400\n",
       "\n",
       "[10000 rows x 6 columns]"
      ]
     },
     "execution_count": 26,
     "metadata": {},
     "output_type": "execute_result"
    }
   ],
   "source": [
    "df = df.sort_values(by=['x', 'y'])\n",
    "df = df.reset_index(drop=True)\n",
    "df"
   ]
  },
  {
   "cell_type": "code",
   "execution_count": 27,
   "metadata": {},
   "outputs": [
    {
     "data": {
      "text/html": [
       "<div>\n",
       "<style scoped>\n",
       "    .dataframe tbody tr th:only-of-type {\n",
       "        vertical-align: middle;\n",
       "    }\n",
       "\n",
       "    .dataframe tbody tr th {\n",
       "        vertical-align: top;\n",
       "    }\n",
       "\n",
       "    .dataframe thead th {\n",
       "        text-align: right;\n",
       "    }\n",
       "</style>\n",
       "<table border=\"1\" class=\"dataframe\">\n",
       "  <thead>\n",
       "    <tr style=\"text-align: right;\">\n",
       "      <th></th>\n",
       "      <th>x</th>\n",
       "      <th>y</th>\n",
       "      <th>A</th>\n",
       "      <th>B</th>\n",
       "      <th>C</th>\n",
       "      <th>D</th>\n",
       "      <th>s</th>\n",
       "    </tr>\n",
       "  </thead>\n",
       "  <tbody>\n",
       "    <tr>\n",
       "      <th>0</th>\n",
       "      <td>-26.999626</td>\n",
       "      <td>-18.359008</td>\n",
       "      <td>2411.17500</td>\n",
       "      <td>683.508700</td>\n",
       "      <td>130.20410</td>\n",
       "      <td>63.21367</td>\n",
       "      <td>3288.101470</td>\n",
       "    </tr>\n",
       "    <tr>\n",
       "      <th>1</th>\n",
       "      <td>-26.998278</td>\n",
       "      <td>-23.955833</td>\n",
       "      <td>1342.46500</td>\n",
       "      <td>245.210400</td>\n",
       "      <td>70.88792</td>\n",
       "      <td>28.34179</td>\n",
       "      <td>1686.905110</td>\n",
       "    </tr>\n",
       "    <tr>\n",
       "      <th>2</th>\n",
       "      <td>-26.995556</td>\n",
       "      <td>-5.039404</td>\n",
       "      <td>1882.73000</td>\n",
       "      <td>1380.625000</td>\n",
       "      <td>111.71440</td>\n",
       "      <td>92.24528</td>\n",
       "      <td>3467.314680</td>\n",
       "    </tr>\n",
       "    <tr>\n",
       "      <th>3</th>\n",
       "      <td>-26.989379</td>\n",
       "      <td>4.125864</td>\n",
       "      <td>1466.71900</td>\n",
       "      <td>1850.981000</td>\n",
       "      <td>96.22824</td>\n",
       "      <td>111.12800</td>\n",
       "      <td>3525.056240</td>\n",
       "    </tr>\n",
       "    <tr>\n",
       "      <th>4</th>\n",
       "      <td>-26.985018</td>\n",
       "      <td>-15.969134</td>\n",
       "      <td>2297.57400</td>\n",
       "      <td>802.912500</td>\n",
       "      <td>125.86800</td>\n",
       "      <td>67.91240</td>\n",
       "      <td>3294.266900</td>\n",
       "    </tr>\n",
       "    <tr>\n",
       "      <th>...</th>\n",
       "      <td>...</td>\n",
       "      <td>...</td>\n",
       "      <td>...</td>\n",
       "      <td>...</td>\n",
       "      <td>...</td>\n",
       "      <td>...</td>\n",
       "      <td>...</td>\n",
       "    </tr>\n",
       "    <tr>\n",
       "      <th>9995</th>\n",
       "      <td>26.961538</td>\n",
       "      <td>-6.317960</td>\n",
       "      <td>115.04630</td>\n",
       "      <td>90.549750</td>\n",
       "      <td>1960.64900</td>\n",
       "      <td>1328.88800</td>\n",
       "      <td>3495.133050</td>\n",
       "    </tr>\n",
       "    <tr>\n",
       "      <th>9996</th>\n",
       "      <td>26.971361</td>\n",
       "      <td>7.268447</td>\n",
       "      <td>85.55472</td>\n",
       "      <td>112.750300</td>\n",
       "      <td>1235.75600</td>\n",
       "      <td>1937.12400</td>\n",
       "      <td>3371.185020</td>\n",
       "    </tr>\n",
       "    <tr>\n",
       "      <th>9997</th>\n",
       "      <td>26.978905</td>\n",
       "      <td>22.225232</td>\n",
       "      <td>58.37614</td>\n",
       "      <td>142.105200</td>\n",
       "      <td>524.17440</td>\n",
       "      <td>2683.52700</td>\n",
       "      <td>3408.182740</td>\n",
       "    </tr>\n",
       "    <tr>\n",
       "      <th>9998</th>\n",
       "      <td>26.979568</td>\n",
       "      <td>-25.445131</td>\n",
       "      <td>19.84834</td>\n",
       "      <td>7.935589</td>\n",
       "      <td>375.88490</td>\n",
       "      <td>68.65793</td>\n",
       "      <td>472.326759</td>\n",
       "    </tr>\n",
       "    <tr>\n",
       "      <th>9999</th>\n",
       "      <td>26.995533</td>\n",
       "      <td>-1.864692</td>\n",
       "      <td>100.27640</td>\n",
       "      <td>94.446330</td>\n",
       "      <td>1632.96000</td>\n",
       "      <td>1482.60400</td>\n",
       "      <td>3310.286730</td>\n",
       "    </tr>\n",
       "  </tbody>\n",
       "</table>\n",
       "<p>10000 rows × 7 columns</p>\n",
       "</div>"
      ],
      "text/plain": [
       "              x          y           A            B           C           D  \\\n",
       "0    -26.999626 -18.359008  2411.17500   683.508700   130.20410    63.21367   \n",
       "1    -26.998278 -23.955833  1342.46500   245.210400    70.88792    28.34179   \n",
       "2    -26.995556  -5.039404  1882.73000  1380.625000   111.71440    92.24528   \n",
       "3    -26.989379   4.125864  1466.71900  1850.981000    96.22824   111.12800   \n",
       "4    -26.985018 -15.969134  2297.57400   802.912500   125.86800    67.91240   \n",
       "...         ...        ...         ...          ...         ...         ...   \n",
       "9995  26.961538  -6.317960   115.04630    90.549750  1960.64900  1328.88800   \n",
       "9996  26.971361   7.268447    85.55472   112.750300  1235.75600  1937.12400   \n",
       "9997  26.978905  22.225232    58.37614   142.105200   524.17440  2683.52700   \n",
       "9998  26.979568 -25.445131    19.84834     7.935589   375.88490    68.65793   \n",
       "9999  26.995533  -1.864692   100.27640    94.446330  1632.96000  1482.60400   \n",
       "\n",
       "                s  \n",
       "0     3288.101470  \n",
       "1     1686.905110  \n",
       "2     3467.314680  \n",
       "3     3525.056240  \n",
       "4     3294.266900  \n",
       "...           ...  \n",
       "9995  3495.133050  \n",
       "9996  3371.185020  \n",
       "9997  3408.182740  \n",
       "9998   472.326759  \n",
       "9999  3310.286730  \n",
       "\n",
       "[10000 rows x 7 columns]"
      ]
     },
     "execution_count": 27,
     "metadata": {},
     "output_type": "execute_result"
    }
   ],
   "source": [
    "#define the amplitude of each event\n",
    "df['s'] = df['A']+df['B']+df['C']+df['D'] \n",
    "df"
   ]
  },
  {
   "cell_type": "code",
   "execution_count": 28,
   "metadata": {},
   "outputs": [],
   "source": [
    "#calculate the position in the same way it is calculated in the real data\n",
    "df['X'] = -(df.A+df.B-df.C-df.D)/df.s\n",
    "df['Y'] = -(df.A+df.C-df.B-df.D)/df.s"
   ]
  },
  {
   "cell_type": "code",
   "execution_count": 29,
   "metadata": {},
   "outputs": [
    {
     "data": {
      "text/html": [
       "<div>\n",
       "<style scoped>\n",
       "    .dataframe tbody tr th:only-of-type {\n",
       "        vertical-align: middle;\n",
       "    }\n",
       "\n",
       "    .dataframe tbody tr th {\n",
       "        vertical-align: top;\n",
       "    }\n",
       "\n",
       "    .dataframe thead th {\n",
       "        text-align: right;\n",
       "    }\n",
       "</style>\n",
       "<table border=\"1\" class=\"dataframe\">\n",
       "  <thead>\n",
       "    <tr style=\"text-align: right;\">\n",
       "      <th></th>\n",
       "      <th>x</th>\n",
       "      <th>y</th>\n",
       "      <th>A</th>\n",
       "      <th>B</th>\n",
       "      <th>C</th>\n",
       "      <th>D</th>\n",
       "      <th>s</th>\n",
       "      <th>X</th>\n",
       "      <th>Y</th>\n",
       "    </tr>\n",
       "  </thead>\n",
       "  <tbody>\n",
       "    <tr>\n",
       "      <th>0</th>\n",
       "      <td>-26.999626</td>\n",
       "      <td>-18.359008</td>\n",
       "      <td>2411.17500</td>\n",
       "      <td>683.508700</td>\n",
       "      <td>130.20410</td>\n",
       "      <td>63.21367</td>\n",
       "      <td>3288.101470</td>\n",
       "      <td>-0.882353</td>\n",
       "      <td>-0.545803</td>\n",
       "    </tr>\n",
       "    <tr>\n",
       "      <th>1</th>\n",
       "      <td>-26.998278</td>\n",
       "      <td>-23.955833</td>\n",
       "      <td>1342.46500</td>\n",
       "      <td>245.210400</td>\n",
       "      <td>70.88792</td>\n",
       "      <td>28.34179</td>\n",
       "      <td>1686.905110</td>\n",
       "      <td>-0.882353</td>\n",
       "      <td>-0.675676</td>\n",
       "    </tr>\n",
       "    <tr>\n",
       "      <th>2</th>\n",
       "      <td>-26.995556</td>\n",
       "      <td>-5.039404</td>\n",
       "      <td>1882.73000</td>\n",
       "      <td>1380.625000</td>\n",
       "      <td>111.71440</td>\n",
       "      <td>92.24528</td>\n",
       "      <td>3467.314680</td>\n",
       "      <td>-0.882353</td>\n",
       "      <td>-0.150426</td>\n",
       "    </tr>\n",
       "    <tr>\n",
       "      <th>3</th>\n",
       "      <td>-26.989379</td>\n",
       "      <td>4.125864</td>\n",
       "      <td>1466.71900</td>\n",
       "      <td>1850.981000</td>\n",
       "      <td>96.22824</td>\n",
       "      <td>111.12800</td>\n",
       "      <td>3525.056240</td>\n",
       "      <td>-0.882353</td>\n",
       "      <td>0.113236</td>\n",
       "    </tr>\n",
       "    <tr>\n",
       "      <th>4</th>\n",
       "      <td>-26.985018</td>\n",
       "      <td>-15.969134</td>\n",
       "      <td>2297.57400</td>\n",
       "      <td>802.912500</td>\n",
       "      <td>125.86800</td>\n",
       "      <td>67.91240</td>\n",
       "      <td>3294.266900</td>\n",
       "      <td>-0.882353</td>\n",
       "      <td>-0.471309</td>\n",
       "    </tr>\n",
       "    <tr>\n",
       "      <th>...</th>\n",
       "      <td>...</td>\n",
       "      <td>...</td>\n",
       "      <td>...</td>\n",
       "      <td>...</td>\n",
       "      <td>...</td>\n",
       "      <td>...</td>\n",
       "      <td>...</td>\n",
       "      <td>...</td>\n",
       "      <td>...</td>\n",
       "    </tr>\n",
       "    <tr>\n",
       "      <th>9995</th>\n",
       "      <td>26.961538</td>\n",
       "      <td>-6.317960</td>\n",
       "      <td>115.04630</td>\n",
       "      <td>90.549750</td>\n",
       "      <td>1960.64900</td>\n",
       "      <td>1328.88800</td>\n",
       "      <td>3495.133050</td>\n",
       "      <td>0.882353</td>\n",
       "      <td>-0.187763</td>\n",
       "    </tr>\n",
       "    <tr>\n",
       "      <th>9996</th>\n",
       "      <td>26.971361</td>\n",
       "      <td>7.268447</td>\n",
       "      <td>85.55472</td>\n",
       "      <td>112.750300</td>\n",
       "      <td>1235.75600</td>\n",
       "      <td>1937.12400</td>\n",
       "      <td>3371.185020</td>\n",
       "      <td>0.882353</td>\n",
       "      <td>0.216115</td>\n",
       "    </tr>\n",
       "    <tr>\n",
       "      <th>9997</th>\n",
       "      <td>26.978905</td>\n",
       "      <td>22.225232</td>\n",
       "      <td>58.37614</td>\n",
       "      <td>142.105200</td>\n",
       "      <td>524.17440</td>\n",
       "      <td>2683.52700</td>\n",
       "      <td>3408.182740</td>\n",
       "      <td>0.882353</td>\n",
       "      <td>0.658146</td>\n",
       "    </tr>\n",
       "    <tr>\n",
       "      <th>9998</th>\n",
       "      <td>26.979568</td>\n",
       "      <td>-25.445131</td>\n",
       "      <td>19.84834</td>\n",
       "      <td>7.935589</td>\n",
       "      <td>375.88490</td>\n",
       "      <td>68.65793</td>\n",
       "      <td>472.326759</td>\n",
       "      <td>0.882353</td>\n",
       "      <td>-0.675676</td>\n",
       "    </tr>\n",
       "    <tr>\n",
       "      <th>9999</th>\n",
       "      <td>26.995533</td>\n",
       "      <td>-1.864692</td>\n",
       "      <td>100.27640</td>\n",
       "      <td>94.446330</td>\n",
       "      <td>1632.96000</td>\n",
       "      <td>1482.60400</td>\n",
       "      <td>3310.286730</td>\n",
       "      <td>0.882353</td>\n",
       "      <td>-0.047182</td>\n",
       "    </tr>\n",
       "  </tbody>\n",
       "</table>\n",
       "<p>10000 rows × 9 columns</p>\n",
       "</div>"
      ],
      "text/plain": [
       "              x          y           A            B           C           D  \\\n",
       "0    -26.999626 -18.359008  2411.17500   683.508700   130.20410    63.21367   \n",
       "1    -26.998278 -23.955833  1342.46500   245.210400    70.88792    28.34179   \n",
       "2    -26.995556  -5.039404  1882.73000  1380.625000   111.71440    92.24528   \n",
       "3    -26.989379   4.125864  1466.71900  1850.981000    96.22824   111.12800   \n",
       "4    -26.985018 -15.969134  2297.57400   802.912500   125.86800    67.91240   \n",
       "...         ...        ...         ...          ...         ...         ...   \n",
       "9995  26.961538  -6.317960   115.04630    90.549750  1960.64900  1328.88800   \n",
       "9996  26.971361   7.268447    85.55472   112.750300  1235.75600  1937.12400   \n",
       "9997  26.978905  22.225232    58.37614   142.105200   524.17440  2683.52700   \n",
       "9998  26.979568 -25.445131    19.84834     7.935589   375.88490    68.65793   \n",
       "9999  26.995533  -1.864692   100.27640    94.446330  1632.96000  1482.60400   \n",
       "\n",
       "                s         X         Y  \n",
       "0     3288.101470 -0.882353 -0.545803  \n",
       "1     1686.905110 -0.882353 -0.675676  \n",
       "2     3467.314680 -0.882353 -0.150426  \n",
       "3     3525.056240 -0.882353  0.113236  \n",
       "4     3294.266900 -0.882353 -0.471309  \n",
       "...           ...       ...       ...  \n",
       "9995  3495.133050  0.882353 -0.187763  \n",
       "9996  3371.185020  0.882353  0.216115  \n",
       "9997  3408.182740  0.882353  0.658146  \n",
       "9998   472.326759  0.882353 -0.675676  \n",
       "9999  3310.286730  0.882353 -0.047182  \n",
       "\n",
       "[10000 rows x 9 columns]"
      ]
     },
     "execution_count": 29,
     "metadata": {},
     "output_type": "execute_result"
    }
   ],
   "source": [
    "df"
   ]
  },
  {
   "cell_type": "code",
   "execution_count": 30,
   "metadata": {},
   "outputs": [],
   "source": [
    "#define the average amplitude of the non-distoreted points to use for normalization\n",
    "X_sim = np.array(df['X'])\n",
    "Y_sim = np.array(df['Y'])\n",
    "amp_sim = np.array(df['s'])\n",
    "\n",
    "#print('mean amplitude:', np.mean(amp_freq_sim))\n",
    "#center_amp_sim = np.mean(amp_freq_sim)"
   ]
  },
  {
   "cell_type": "code",
   "execution_count": 31,
   "metadata": {},
   "outputs": [
    {
     "data": {
      "image/png": "[encoded data removed]",
      "text/plain": [
       "<Figure size 640x480 with 1 Axes>"
      ]
     },
     "metadata": {},
     "output_type": "display_data"
    },
    {
     "name": "stdout",
     "output_type": "stream",
     "text": [
      "mean amplitude center: 59292.506708548615\n"
     ]
    }
   ],
   "source": [
    "X_sim = np.array(df['X'])\n",
    "Y_sim = np.array(df['Y'])\n",
    "amp_sim = np.array(df['s']) \n",
    "plt.figure()\n",
    "amp_freq_sim = np.array(amp_sim)[(np.abs(X_sim)**2 + np.abs(Y_sim)**2 < .45)]\n",
    "plt.hist(amp_freq_sim,bins=100,color='green', label='Center Amplitudes')\n",
    "amp_freq_sim2 = np.array(amp_sim)[(np.array(X_sim)>0.7)|(np.array(X_sim)<-0.7)|(np.array(Y_sim)>0.6)|(np.array(Y_sim)<-0.6)]\n",
    "plt.hist(amp_freq_sim2,bins=100,color='red',alpha=0.5, label='Edge Amplitudes')\n",
    "\n",
    "plt.xlabel('Amplitude')\n",
    "plt.ylabel('Number of Events')\n",
    "plt.legend()\n",
    "plt.show()\n",
    "print('mean amplitude center:', np.mean(amp_freq_sim))\n"
   ]
  },
  {
   "cell_type": "code",
   "execution_count": null,
   "metadata": {},
   "outputs": [],
   "source": []
  }
 ],
 "metadata": {
  "anaconda-cloud": {},
  "kernelspec": {
   "display_name": "Python 3 (ipykernel)",
   "language": "python",
   "name": "python3"
  },
  "language_info": {
   "codemirror_mode": {
    "name": "ipython",
    "version": 3
   },
   "file_extension": ".py",
   "mimetype": "text/x-python",
   "name": "python",
   "nbconvert_exporter": "python",
   "pygments_lexer": "ipython3",
   "version": "3.12.4"
  }
 },
 "nbformat": 4,
 "nbformat_minor": 1
}
