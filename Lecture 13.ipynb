{
 "cells": [
  {
   "cell_type": "markdown",
   "id": "6e35774f",
   "metadata": {},
   "source": [
    "# Astro 9"
   ]
  },
  {
   "cell_type": "markdown",
   "id": "288aaf2f",
   "metadata": {},
   "source": [
    "# Lecture 13: Calculus in Python Part 2"
   ]
  },
  {
   "cell_type": "code",
   "execution_count": 1,
   "id": "b58b3518",
   "metadata": {},
   "outputs": [],
   "source": [
    "import numpy as np\n",
    "import matplotlib.pyplot as plt"
   ]
  },
  {
   "cell_type": "markdown",
   "id": "504e9ac9",
   "metadata": {},
   "source": [
    "## Integration"
   ]
  },
  {
   "cell_type": "markdown",
   "id": "1bdb6176",
   "metadata": {},
   "source": [
    "Integrate the function $g(t)=exp(−t^2)$ from -3 to 3 using various numerical techniques"
   ]
  },
  {
   "cell_type": "code",
   "execution_count": 2,
   "id": "21757c48",
   "metadata": {},
   "outputs": [
    {
     "data": {
      "text/plain": [
       "[<matplotlib.lines.Line2D at 0x1b47796f590>]"
      ]
     },
     "execution_count": 2,
     "metadata": {},
     "output_type": "execute_result"
    },
    {
     "data": {
      "image/png": "[encoded data removed]",
      "text/plain": [
       "<Figure size 640x480 with 1 Axes>"
      ]
     },
     "metadata": {},
     "output_type": "display_data"
    }
   ],
   "source": [
    "def g1(t):\n",
    "    return np.exp(-t**2) \n",
    "\n",
    "x = np.linspace(-3, 3, 100)\n",
    "y = g1(x)\n",
    "\n",
    "plt.plot(x, y)"
   ]
  },
  {
   "cell_type": "code",
   "execution_count": 3,
   "id": "f7087f5f",
   "metadata": {},
   "outputs": [],
   "source": [
    "def Trapezoidal(f, a, b, n):\n",
    "    h = (b-a)/float(n)\n",
    "    s = 0.5*(f(a) + f(b))\n",
    "    for i in range(1,n,1):\n",
    "        s += f(a + i*h)\n",
    "    return h*s"
   ]
  },
  {
   "cell_type": "code",
   "execution_count": 4,
   "id": "fe829065",
   "metadata": {},
   "outputs": [
    {
     "name": "stdout",
     "output_type": "stream",
     "text": [
      "1.772414253041992\n"
     ]
    }
   ],
   "source": [
    "a = -3;  b = 3\n",
    "n = 100\n",
    "\n",
    "result1 = Trapezoidal(g1, a, b, n)\n",
    "print (result1)"
   ]
  },
  {
   "cell_type": "code",
   "execution_count": 5,
   "id": "d374edb2",
   "metadata": {},
   "outputs": [
    {
     "name": "stdout",
     "output_type": "stream",
     "text": [
      "1.7724052632102414\n"
     ]
    }
   ],
   "source": [
    "x=np.arange(a, b, (b-a)/n)\n",
    "y=np.exp(-(x**2))\n",
    "res1=np.trapz(y,x)\n",
    "print (res1)"
   ]
  },
  {
   "cell_type": "code",
   "execution_count": 6,
   "id": "206a975d",
   "metadata": {},
   "outputs": [],
   "source": [
    "def simpson_rule(f, a, b, n):\n",
    "    h = (b-a)/float(n)\n",
    "    s = (f(a) + f(b))/3\n",
    "    for i in range(1,n,2):\n",
    "        s += (4*f(a + i*h)+2*f(a+(i+1)*h))/3\n",
    "    return h*s"
   ]
  },
  {
   "cell_type": "code",
   "execution_count": 7,
   "id": "7d40d136",
   "metadata": {},
   "outputs": [
    {
     "name": "stdout",
     "output_type": "stream",
     "text": [
      "1.7724196297413746\n"
     ]
    }
   ],
   "source": [
    "result3 = simpson_rule(g1, a, b, n)\n",
    "print (result3)"
   ]
  },
  {
   "cell_type": "code",
   "execution_count": 8,
   "id": "1259ea24",
   "metadata": {},
   "outputs": [
    {
     "name": "stdout",
     "output_type": "stream",
     "text": [
      "1.772405770498701\n"
     ]
    }
   ],
   "source": [
    "from scipy.integrate import simps\n",
    "import numpy as np\n",
    "x=np.arange(a, b, (b-a)/n)\n",
    "y=np.exp(-(x**2))\n",
    "res3=simps(y,x)\n",
    "print (res3)"
   ]
  },
  {
   "cell_type": "code",
   "execution_count": 9,
   "id": "782f08a4",
   "metadata": {},
   "outputs": [
    {
     "name": "stdout",
     "output_type": "stream",
     "text": [
      "1.7724146965190428 +/- 6.353644780437984e-11\n"
     ]
    }
   ],
   "source": [
    "from scipy.integrate import quad\n",
    "\n",
    "res4,eps=quad(g1,a,b)\n",
    "print (res4, \"+/-\", eps)"
   ]
  },
  {
   "cell_type": "code",
   "execution_count": 10,
   "id": "b4aa9554",
   "metadata": {},
   "outputs": [
    {
     "name": "stdout",
     "output_type": "stream",
     "text": [
      "Trapezoid Rule              =  1.772414253041992\n",
      "Builtin Trapezoid           =  1.7724052632102414\n",
      "Simpsons Rule               =  1.7724196297413746\n",
      "Builtin Simpsons Rule       =  1.772405770498701\n",
      "Builtin Gaussian Quadrature =  1.7724146965190428\n"
     ]
    }
   ],
   "source": [
    "print ('Trapezoid Rule              = ', result1)\n",
    "print ('Builtin Trapezoid           = ', res1)\n",
    "print ('Simpsons Rule               = ', result3)\n",
    "print ('Builtin Simpsons Rule       = ', res3)\n",
    "print ('Builtin Gaussian Quadrature = ', res4)"
   ]
  },
  {
   "cell_type": "code",
   "execution_count": 11,
   "id": "b5412524",
   "metadata": {},
   "outputs": [
    {
     "name": "stdout",
     "output_type": "stream",
     "text": [
      "Error Trapezoid          =  -2.502106595247966e-07\n",
      "Error Builtin Trapezoid  =  -5.322292135900852e-06\n",
      "Error Simpsons Rule      =  2.783334138500848e-06\n",
      "Error Builtin Simpsons   =  -5.0360789484171775e-06\n",
      "Error Builtin Gauss Quad =  4.440892098500626e-16\n"
     ]
    }
   ],
   "source": [
    "from math import sqrt, erf, pi\n",
    "\n",
    "answer = sqrt(pi)*erf(3.) \n",
    "print('Error Trapezoid          = ',result1/answer-1)\n",
    "print('Error Builtin Trapezoid  = ',res1/answer-1)\n",
    "print('Error Simpsons Rule      = ',result3/answer-1)\n",
    "print('Error Builtin Simpsons   = ',res3/answer-1)\n",
    "print('Error Builtin Gauss Quad = ',res4/answer-1)"
   ]
  },
  {
   "cell_type": "markdown",
   "id": "4b53e2be",
   "metadata": {},
   "source": [
    "Let's look at something we can confirm analytically pretty easily. Let's integrate the derivative we took yesterday from 0 to 5."
   ]
  },
  {
   "cell_type": "code",
   "execution_count": 12,
   "id": "78d2b277",
   "metadata": {},
   "outputs": [
    {
     "data": {
      "text/plain": [
       "<matplotlib.legend.Legend at 0x1b479a923d0>"
      ]
     },
     "execution_count": 12,
     "metadata": {},
     "output_type": "execute_result"
    },
    {
     "data": {
      "image/png": "[encoded data removed]",
      "text/plain": [
       "<Figure size 640x480 with 1 Axes>"
      ]
     },
     "metadata": {},
     "output_type": "display_data"
    }
   ],
   "source": [
    "x = np.linspace(0, 5,100)\n",
    "\n",
    "def func(x):\n",
    "    y0 = x**2+2*x-5\n",
    "    y1 = 2*x+2\n",
    "    return y0, y1 \n",
    "\n",
    "y0, y1 = func(x)\n",
    "\n",
    "plt.plot(x, y1, label='Our Derivative from yesterday')\n",
    "plt.plot(x, y0, label='The original function')\n",
    "plt.legend()"
   ]
  },
  {
   "cell_type": "code",
   "execution_count": 13,
   "id": "45a3e2cc",
   "metadata": {},
   "outputs": [
    {
     "name": "stdout",
     "output_type": "stream",
     "text": [
      "34.99999999999999\n",
      "Trapezoid Rule took 0.0010089874267578 seconds\n",
      "34.4025\n",
      "Built in Trapezoid Rule took 0.0000000000000000 seconds\n",
      "35.400000000000006\n",
      "Simpsons Rule took 0.0000000000000000 seconds\n",
      "34.4025\n",
      "Built in Simpsons Rule took 0.0012104511260986 seconds\n",
      "35.0 +/- 3.885780586188048e-13\n",
      "Built in Gaussian Quadrature took 0.0011239051818848 seconds\n"
     ]
    }
   ],
   "source": [
    "import time\n",
    "\n",
    "def func(x):\n",
    "    return 2*x + 2\n",
    "\n",
    "int_analytical = x**2+2*x\n",
    "\n",
    "a = 0;  b = 5\n",
    "n = 100\n",
    "\n",
    "\"Trapezoid Rule\"\n",
    "tT1 = time.time()\n",
    "result1 = Trapezoidal(func, a, b, n)\n",
    "print (result1)\n",
    "print ('Trapezoid Rule took %1.16f seconds' % (time.time() - tT1))\n",
    "\n",
    "\n",
    "tT2 = time.time()\n",
    "x=np.arange(a, b, (b-a)/n)\n",
    "res1=np.trapz(func(x),x)\n",
    "print (res1)\n",
    "print ('Built in Trapezoid Rule took %1.16f seconds' % (time.time() - tT2))\n",
    "\n",
    "\"Simpson's Rule\"\n",
    "tS1 = time.time()\n",
    "result2 = simpson_rule(func, a, b, n)\n",
    "print (result2)\n",
    "print ('Simpsons Rule took %1.16f seconds' % (time.time() - tS1))\n",
    "\n",
    "\n",
    "tS2 = time.time()\n",
    "x=np.arange(a, b, (b-a)/n)\n",
    "res3=simps(func(x),x)\n",
    "print (res1)\n",
    "print ('Built in Simpsons Rule took %1.16f seconds' % (time.time() - tS2))\n",
    "\n",
    "\"Gaussian Quadrature\"\n",
    "tG2 = time.time()\n",
    "res4,eps=quad(func,a,b)\n",
    "print (res4, \"+/-\", eps)\n",
    "print ('Built in Gaussian Quadrature took %1.16f seconds' % (time.time() - tG2))"
   ]
  },
  {
   "cell_type": "code",
   "execution_count": 14,
   "id": "86dff7da",
   "metadata": {},
   "outputs": [
    {
     "name": "stdout",
     "output_type": "stream",
     "text": [
      "35\n"
     ]
    }
   ],
   "source": [
    "integral = (5**2 + 2*5) - 0\n",
    "print(integral)"
   ]
  },
  {
   "cell_type": "markdown",
   "id": "c57e0a69",
   "metadata": {},
   "source": [
    "## Let's do some more scipy practice"
   ]
  },
  {
   "cell_type": "markdown",
   "id": "fb552ca2",
   "metadata": {},
   "source": [
    "### Double Integral"
   ]
  },
  {
   "cell_type": "code",
   "execution_count": 15,
   "id": "9deb1e98",
   "metadata": {},
   "outputs": [
    {
     "name": "stdout",
     "output_type": "stream",
     "text": [
      "5.333333333333333 +/- 1.1765402038992619e-13\n",
      "2.071067811865475 +/- 5.541640027377969e-14\n"
     ]
    }
   ],
   "source": [
    "from scipy.integrate import dblquad\n",
    "\n",
    "#use the lambda method for this example\n",
    "f = lambda y, x: x**2 + y**2\n",
    "result1 = dblquad(f, 0, 2, 0, lambda x: x)\n",
    "print(result1[0], '+/-', result1[1])\n",
    "\n",
    "\n",
    "f = lambda x, y: 5\n",
    "result2 = dblquad(f, 0, np.pi/4, np.sin, np.cos)\n",
    "print(result2[0], '+/-', result2[1])"
   ]
  },
  {
   "cell_type": "markdown",
   "id": "f16569e5",
   "metadata": {},
   "source": [
    "### Triple Integral"
   ]
  },
  {
   "cell_type": "code",
   "execution_count": 16,
   "id": "477740ce",
   "metadata": {},
   "outputs": [
    {
     "name": "stdout",
     "output_type": "stream",
     "text": [
      "1.8750000000000002 +/- 3.324644794257407e-14\n"
     ]
    }
   ],
   "source": [
    "from scipy.integrate import tplquad\n",
    "\n",
    "f = lambda z, y, x: x*y*z\n",
    "result3 = tplquad(f, 1, 2, 2, 3, 0, 1)\n",
    "print(result3[0], '+/-', result3[1])"
   ]
  },
  {
   "cell_type": "markdown",
   "id": "a07deff3",
   "metadata": {},
   "source": [
    "## Practice Problem"
   ]
  },
  {
   "cell_type": "markdown",
   "id": "72045841",
   "metadata": {},
   "source": [
    "Lets try comparing the different methods and see how the number of slices effects the outcome"
   ]
  },
  {
   "cell_type": "markdown",
   "id": "195cf2d5",
   "metadata": {},
   "source": [
    "$$\\int_0^{6.9}\\cos\\left(\\frac{\\pi}{2}x^2\\right)\\, dx$$"
   ]
  },
  {
   "cell_type": "code",
   "execution_count": 20,
   "id": "7da5db17",
   "metadata": {},
   "outputs": [
    {
     "name": "stdout",
     "output_type": "stream",
     "text": [
      "#4:\n",
      "Quad Method 0.47322531435151366 +/- 1.9407063849864764e-10\n",
      "\n",
      "Trapezoid Method (n = 3000): 0.4729534091925068\n",
      "Simpsons Method (n = 3000): 0.4729532926000109\n",
      "\n",
      "Trapezoid Method (n = 3800): 0.4732253862835866\n",
      "Simpsons Method (n = 3800): 0.47322531435135284\n",
      "\n",
      "Trapezoid Method (n = 4000): 0.47302123284551445\n",
      "Simpsons Method (n = 4000): 0.47302116742845496\n",
      "\n",
      "Actual Integral = 0.473225\n",
      "The Estimation increased in accuracy as the slices increased up until a certain point, in this case 3800, after which the      estimates grew less accurate with more slices.\n"
     ]
    }
   ],
   "source": [
    "from scipy.integrate import simps\n",
    "from scipy.integrate import quad\n",
    "from scipy.integrate import trapz\n",
    "\n",
    "a = 0\n",
    "b = 6.9\n",
    "n = 100\n",
    "\n",
    "x1=np.arange(a, b, 1/(30*n))\n",
    "x2=np.arange(a, b, 1/(38*n))\n",
    "x3=np.arange(a, b, 1/(40*n))\n",
    "\n",
    "def y(x):\n",
    "    return np.cos(np.pi*(x**2)/2)\n",
    "\n",
    "dt1=trapz(y(x1),x1)\n",
    "dt2=trapz(y(x2),x2)\n",
    "dt3=trapz(y(x3),x3)\n",
    "ds1=simps(y(x1),x1)\n",
    "ds2=simps(y(x2),x2)\n",
    "ds3=simps(y(x3),x3)\n",
    "\n",
    "dq1,eps=quad(y,a,b)\n",
    "print('#4:')\n",
    "print ('Quad Method', dq1, \"+/-\", eps)\n",
    "print(\"\")\n",
    "print ('Trapezoid Method (n = 3000):', dt1)\n",
    "print ('Simpsons Method (n = 3000):', ds1)\n",
    "print(\"\")\n",
    "print ('Trapezoid Method (n = 3800):', dt2) #test many different number of slices until the accuracy of the estimate reaches an acceptable level\n",
    "print ('Simpsons Method (n = 3800):', ds2)\n",
    "print(\"\")\n",
    "print ('Trapezoid Method (n = 4000):', dt3) \n",
    "print ('Simpsons Method (n = 4000):', ds3)\n",
    "print(\"\")\n",
    "print('Actual Integral =', .473225)\n",
    "print('The Estimation increased in accuracy as the slices increased up until a certain point, in this case 3800, after which the      estimates grew less accurate with more slices.')\n",
    "\n"
   ]
  },
  {
   "cell_type": "code",
   "execution_count": null,
   "id": "67625d21",
   "metadata": {},
   "outputs": [],
   "source": []
  }
 ],
 "metadata": {
  "kernelspec": {
   "display_name": "Python 3 (ipykernel)",
   "language": "python",
   "name": "python3"
  },
  "language_info": {
   "codemirror_mode": {
    "name": "ipython",
    "version": 3
   },
   "file_extension": ".py",
   "mimetype": "text/x-python",
   "name": "python",
   "nbconvert_exporter": "python",
   "pygments_lexer": "ipython3",
   "version": "3.11.5"
  }
 },
 "nbformat": 4,
 "nbformat_minor": 5
}
